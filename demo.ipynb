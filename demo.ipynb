{
 "cells": [
  {
   "cell_type": "code",
   "execution_count": 29,
   "metadata": {},
   "outputs": [],
   "source": [
    "import sounddevice as sd\n",
    "from scipy.io.wavfile import write\n",
    "import librosa\n",
    "import numpy as np\n",
    "from tensorflow.keras.models import load_model\n",
    "import joblib\n",
    "from sklearn.decomposition import PCA"
   ]
  },
  {
   "cell_type": "code",
   "execution_count": 2,
   "metadata": {},
   "outputs": [],
   "source": [
    "def standardize_mfcc_length(mfcc, target_length=100):\n",
    "    \"\"\"\n",
    "    Standardize a single MFCC matrix to a fixed length.\n",
    "    Pads or truncates along the time axis, then flattens the result.\n",
    "    \n",
    "    Parameters:\n",
    "        mfcc (np.ndarray): 2D MFCC array (n_mfcc, time_steps)\n",
    "        target_length (int): Desired number of time steps\n",
    "    \n",
    "    Returns:\n",
    "        np.ndarray: Flattened standardized MFCC\n",
    "    \"\"\"\n",
    "    current_length = mfcc.shape[1]\n",
    "    \n",
    "    if current_length > target_length:\n",
    "        # Truncate\n",
    "        standardized = mfcc[:, :target_length]\n",
    "    else:\n",
    "        # Pad with zeros\n",
    "        padding = np.zeros((mfcc.shape[0], target_length - current_length))\n",
    "        standardized = np.hstack([mfcc, padding])\n",
    "    \n",
    "    return standardized.flatten()\n"
   ]
  },
  {
   "cell_type": "code",
   "execution_count": 18,
   "metadata": {},
   "outputs": [
    {
     "name": "stdout",
     "output_type": "stream",
     "text": [
      "Recording...\n",
      "Finished recording\n"
     ]
    }
   ],
   "source": [
    "fs = 16000  # Sample rate\n",
    "seconds = 3  # Duration of recording\n",
    "\n",
    "\n",
    "# PLEASE NOTE: WAIT A SECOND WHEN AFTER THE RECORDING STARTS / HAVE A SLIGHT PAUSE AT THE START.\n",
    "# The recording tends to cut off the very start, and so the first second is trimmed before being inputted into the model\n",
    "# To have the best prediction results\n",
    "\n",
    "\n",
    "\n",
    "myrecording = sd.rec(int(seconds * fs), samplerate=fs, channels=1)\n",
    "print(\"Recording...\")\n",
    "sd.wait()  # Wait until recording is finished\n",
    "print(\"Finished recording\")\n",
    "write('output.wav', fs, myrecording)  # Save as WAV file"
   ]
  },
  {
   "cell_type": "code",
   "execution_count": 32,
   "metadata": {},
   "outputs": [],
   "source": [
    "# Step 1: Load the audio\n",
    "file_path = 'output.wav'\n",
    "y, _ = librosa.load('output.wav', sr=16000)\n",
    "y = y[16000:]  # Use only the first second (if model expects 1-sec clips)\n",
    "\n",
    "\n",
    "# Step 2: Extract MFCCs\n",
    "mfcc = librosa.feature.mfcc(y=y, sr=16000, n_mfcc=13)\n",
    "\n",
    "# Step 3: Standardize MFCC length\n",
    "standardized_mfcc = standardize_mfcc_length(mfcc, target_length=100)  # shape: (13, 100), then flattened\n",
    "cnn_standardized_mfcc = standardize_mfcc_length(mfcc, target_length=100)  \n",
    "\n"
   ]
  },
  {
   "cell_type": "code",
   "execution_count": 33,
   "metadata": {},
   "outputs": [
    {
     "name": "stdout",
     "output_type": "stream",
     "text": [
      "Tuned Logistic Regression model loaded.\n",
      "Predicted class label: down\n"
     ]
    }
   ],
   "source": [
    "# Test with Tuned Logistic Regression model\n",
    "\n",
    "# Load the model\n",
    "model = joblib.load(\"tuned_logistic_model.pkl\")\n",
    "print(\"Tuned Logistic Regression model loaded.\")\n",
    "\n",
    "# Reshape input if it's a single sample\n",
    "standardized_mfcc = standardized_mfcc.reshape(1, -1)\n",
    "\n",
    "# Predict the class label\n",
    "predicted_label = model.predict(standardized_mfcc)\n",
    "print(f\"Predicted class label: {predicted_label[0]}\")"
   ]
  },
  {
   "cell_type": "code",
   "execution_count": 34,
   "metadata": {},
   "outputs": [
    {
     "name": "stdout",
     "output_type": "stream",
     "text": [
      "SVM model loaded.\n",
      "Predicted class label: right\n"
     ]
    }
   ],
   "source": [
    "# Test with SVM\n",
    "\n",
    "# Load the model\n",
    "model = joblib.load(\"svm_model.pkl\")\n",
    "print(\"SVM model loaded.\")\n",
    "\n",
    "# Reshape input if it's a single sample\n",
    "standardized_mfcc = standardized_mfcc.reshape(1, -1)\n",
    "\n",
    "# Predict the class label\n",
    "predicted_label = model.predict(standardized_mfcc)\n",
    "print(f\"Predicted class label: {predicted_label[0]}\")"
   ]
  },
  {
   "cell_type": "code",
   "execution_count": null,
   "metadata": {},
   "outputs": [
    {
     "name": "stdout",
     "output_type": "stream",
     "text": [
      "CNN model loaded.\n",
      "1/1 [==============================] - 0s 54ms/step\n",
      "Prediction probabilities: [[ 4582.053   -159.0854 -3739.2175 -2097.907  -1558.0814 -1358.1765]]\n",
      "Predicted class index: 0\n",
      "Predicted class label: down\n"
     ]
    }
   ],
   "source": [
    "# Test with CNN\n",
    "\n",
    "# Load the model\n",
    "model = load_model('cnn_model.h5')\n",
    "print(\"CNN model loaded.\")\n",
    "\n",
    "# Prepare for CNN input\n",
    "# Reshape: (batch, height, width, channels)\n",
    "input_data = cnn_standardized_mfcc[np.newaxis, ..., np.newaxis]  \n",
    "\n",
    "# Label list in correct encoder order\n",
    "label_list = ['down', 'go', 'left', 'right', 'stop', 'up']\n",
    "\n",
    "\n",
    "# Step 5: Predict\n",
    "prediction = model.predict(input_data)\n",
    "predicted_index = np.argmax(prediction)\n",
    "predicted_label = label_list[predicted_index]\n",
    "\n",
    "print(f\"Prediction probabilities: {prediction}\")\n",
    "print(f\"Predicted class index: {predicted_index}\")\n",
    "print(f\"Predicted class label: {predicted_label}\")"
   ]
  }
 ],
 "metadata": {
  "kernelspec": {
   "display_name": "base",
   "language": "python",
   "name": "python3"
  },
  "language_info": {
   "codemirror_mode": {
    "name": "ipython",
    "version": 3
   },
   "file_extension": ".py",
   "mimetype": "text/x-python",
   "name": "python",
   "nbconvert_exporter": "python",
   "pygments_lexer": "ipython3",
   "version": "3.9.21"
  }
 },
 "nbformat": 4,
 "nbformat_minor": 2
}
