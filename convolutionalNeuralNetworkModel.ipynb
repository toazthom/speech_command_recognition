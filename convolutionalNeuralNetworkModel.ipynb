{
 "cells": [
  {
   "cell_type": "code",
   "execution_count": null,
   "metadata": {},
   "outputs": [
    {
     "name": "stderr",
     "output_type": "stream",
     "text": [
      "c:\\Users\\Toazt\\anaconda3\\lib\\site-packages\\deeplake\\util\\check_latest_version.py:32: UserWarning: A newer version of deeplake (4.1.14) is available. It's recommended that you update to the latest version using `pip install -U deeplake`.\n",
      "  warnings.warn(\n"
     ]
    }
   ],
   "source": [
    "import numpy as np\n",
    "\n",
    "import tensorflow as tf\n",
    "\n",
    "from tensorflow.keras import layers, models\n",
    "import matplotlib.pyplot as plt\n",
    "\n",
    "import librosa\n",
    "import deeplake\n",
    "\n",
    "from sklearn.preprocessing import StandardScaler  \n",
    "from sklearn.model_selection import train_test_split\n",
    "from sklearn.preprocessing import LabelEncoder\n",
    "\n",
    "from imblearn.over_sampling import SMOTE"
   ]
  },
  {
   "cell_type": "code",
   "execution_count": 5,
   "metadata": {},
   "outputs": [],
   "source": [
    "def standardize_mfcc_length(mfcc_list, target_length=100):\n",
    "    \"\"\"Standardize MFCC matrices to a fixed length\"\"\"\n",
    "    result = []\n",
    "    for mfcc in mfcc_list:\n",
    "        current_length = mfcc.shape[1]\n",
    "        if current_length > target_length:\n",
    "            # Truncate if longer than target\n",
    "            standardized = mfcc[:, :target_length]\n",
    "        else:\n",
    "            # Pad with zeros if shorter\n",
    "            padding = np.zeros((mfcc.shape[0], target_length - current_length))\n",
    "            standardized = np.hstack([mfcc, padding])\n",
    "        \n",
    "        # Flatten the matrix for traditional ML models\n",
    "        result.append(standardized.flatten())\n",
    "    \n",
    "    return np.array(result)"
   ]
  },
  {
   "cell_type": "code",
   "execution_count": 6,
   "metadata": {},
   "outputs": [],
   "source": [
    "TARGET_LABELS = {\"stop\", \"go\", \"up\", \"down\", \"forward\", \"backward\"}\n",
    "\n",
    "def extract_filtered_mfcc_features(dataset, n_mfcc=13, sample_rate=16000):\n",
    "    \"\"\"\n",
    "    Extracts MFCC features only for the selected words.\n",
    "    \n",
    "    Parameters:\n",
    "    - dataset: The Deeplake dataset containing audio tensors.\n",
    "    - n_mfcc: Number of MFCC coefficients to extract.\n",
    "    - sample_rate: Target sample rate for librosa processing.\n",
    "    \n",
    "    Returns:\n",
    "    - X: NumPy array of MFCC features (num_samples, n_mfcc)\n",
    "    - y: NumPy array of corresponding labels\n",
    "    \"\"\"\n",
    "    \n",
    "    X, y = [], []\n",
    "    \n",
    "    for i in range(len(dataset)):\n",
    "        point_label = dataset.labels[i].data()['text'][0]  \n",
    "\n",
    "        if point_label in TARGET_LABELS:  # Keep only target samples\n",
    "            \n",
    "            audio = dataset['audios'][i].numpy().squeeze()  # Extract audio data\n",
    "            \n",
    "            # Compute MFCC\n",
    "            mfcc = librosa.feature.mfcc(y=audio, sr=sample_rate, n_mfcc=n_mfcc)\n",
    "            # mfcc_mean = np.mean(mfcc, axis=1)  # second method: Can take mean of factors for more simplistic feature set\n",
    "            \n",
    "            X.append(mfcc)\n",
    "            y.append(point_label)\n",
    "            \n",
    "    return standardize_mfcc_length(X), np.array(y)"
   ]
  },
  {
   "cell_type": "code",
   "execution_count": 7,
   "metadata": {},
   "outputs": [
    {
     "name": "stderr",
     "output_type": "stream",
     "text": [
      "|"
     ]
    },
    {
     "name": "stdout",
     "output_type": "stream",
     "text": [
      "Opening dataset in read-only mode as you don't have write permissions.\n"
     ]
    },
    {
     "name": "stderr",
     "output_type": "stream",
     "text": [
      "|"
     ]
    },
    {
     "name": "stdout",
     "output_type": "stream",
     "text": [
      "This dataset can be visualized in Jupyter Notebook by ds.visualize() or at https://app.activeloop.ai/activeloop/speech-commands-train\n",
      "\n"
     ]
    },
    {
     "name": "stderr",
     "output_type": "stream",
     "text": [
      "/"
     ]
    },
    {
     "name": "stdout",
     "output_type": "stream",
     "text": [
      "hub://activeloop/speech-commands-train loaded successfully.\n",
      "\n"
     ]
    },
    {
     "name": "stderr",
     "output_type": "stream",
     "text": [
      " c:\\Users\\Toazt\\anaconda3\\lib\\site-packages\\deeplake\\core\\tensor.py:719: UserWarning: Indexing by integer in a for loop, like `for i in range(len(ds)): ... ds.tensor[i]` can be quite slow. Use `for i, sample in enumerate(ds)` instead.\n",
      "  warnings.warn(\n"
     ]
    }
   ],
   "source": [
    "# Load dataset\n",
    "dataset = deeplake.load('hub://activeloop/speech-commands-train')\n",
    "\n",
    "# Extract features\n",
    "X, y = extract_filtered_mfcc_features(dataset)\n"
   ]
  },
  {
   "cell_type": "code",
   "execution_count": 8,
   "metadata": {},
   "outputs": [
    {
     "name": "stdout",
     "output_type": "stream",
     "text": [
      "{'down': 0, 'go': 1, 'stop': 2, 'up': 3}\n"
     ]
    }
   ],
   "source": [
    "\n",
    "\n",
    "# Scale features \n",
    "scaler = StandardScaler()\n",
    "X_scaled = scaler.fit_transform(X)\n",
    "\n",
    "# Balance dataset\n",
    "smote = SMOTE(random_state=42)\n",
    "X_resampled, y_resampled = smote.fit_resample(X_scaled, y)\n",
    "\n",
    "# Train-test split with stratification\n",
    "X_train, X_test, y_train, y_test = train_test_split(\n",
    "    X_resampled, y_resampled, test_size=0.2, stratify=y_resampled, random_state=42\n",
    ")\n",
    "\n",
    "# Encode labels so they are ints instead of strings for training the model\n",
    "label_encoder = LabelEncoder()\n",
    "\n",
    "# Convert string labels to integers\n",
    "y_train = label_encoder.fit_transform(y_train)\n",
    "y_test = label_encoder.transform(y_test)  # Use the same encoder to transform test labels\n",
    "\n",
    "# Check class mapping\n",
    "print(dict(zip(label_encoder.classes_, range(len(label_encoder.classes_)))))\n",
    "\n",
    "\n",
    "# Get amount of labels for output layer of neural network (how many classes we are distinguishing)\n",
    "unique_labels = np.unique(y_train)  \n",
    "highest_label = np.max(unique_labels)\n",
    "\n",
    "\n",
    "\n"
   ]
  },
  {
   "cell_type": "code",
   "execution_count": null,
   "metadata": {},
   "outputs": [
    {
     "name": "stderr",
     "output_type": "stream",
     "text": [
      "c:\\Users\\Toazt\\anaconda3\\lib\\site-packages\\keras\\src\\layers\\convolutional\\base_conv.py:107: UserWarning: Do not pass an `input_shape`/`input_dim` argument to a layer. When using Sequential models, prefer using an `Input(shape)` object as the first layer in the model instead.\n",
      "  super().__init__(activity_regularizer=activity_regularizer, **kwargs)\n"
     ]
    }
   ],
   "source": [
    "# Referenced:  https://www.tensorflow.org/tutorials/images/cnn\n",
    "model = models.Sequential()\n",
    "model.add(layers.Conv1D(32, kernel_size=3, activation='relu', input_shape=(1300, 1)))\n",
    "# model.add(layers.MaxPooling1D(pool_size=2))\n",
    "# model.add(layers.Conv1D(64, kernel_size=3, activation='relu'))\n",
    "# model.add(layers.MaxPooling1D(pool_size=2))\n",
    "# model.add(layers.Conv1D(64, kernel_size=3, activation='relu'))\n"
   ]
  },
  {
   "cell_type": "code",
   "execution_count": 10,
   "metadata": {},
   "outputs": [],
   "source": [
    "# Add dense layers on top\n",
    "model.add(layers.Flatten())\n",
    "model.add(layers.Dense(64, activation='relu'))\n",
    "model.add(layers.Dense(highest_label + 1))\n",
    "# model.add(layers.Dense(highest_label + 1, activation='softmax'))"
   ]
  },
  {
   "cell_type": "code",
   "execution_count": 11,
   "metadata": {},
   "outputs": [
    {
     "name": "stdout",
     "output_type": "stream",
     "text": [
      "Epoch 1/100\n",
      "\u001b[1m238/238\u001b[0m \u001b[32m━━━━━━━━━━━━━━━━━━━━\u001b[0m\u001b[37m\u001b[0m \u001b[1m17s\u001b[0m 63ms/step - accuracy: 0.5955 - loss: 1.0197 - val_accuracy: 0.7710 - val_loss: 0.6374\n",
      "Epoch 2/100\n",
      "\u001b[1m238/238\u001b[0m \u001b[32m━━━━━━━━━━━━━━━━━━━━\u001b[0m\u001b[37m\u001b[0m \u001b[1m14s\u001b[0m 57ms/step - accuracy: 0.7834 - loss: 0.5823 - val_accuracy: 0.8078 - val_loss: 0.5237\n",
      "Epoch 3/100\n",
      "\u001b[1m238/238\u001b[0m \u001b[32m━━━━━━━━━━━━━━━━━━━━\u001b[0m\u001b[37m\u001b[0m \u001b[1m13s\u001b[0m 55ms/step - accuracy: 0.8605 - loss: 0.4005 - val_accuracy: 0.8277 - val_loss: 0.4584\n",
      "Epoch 4/100\n",
      "\u001b[1m238/238\u001b[0m \u001b[32m━━━━━━━━━━━━━━━━━━━━\u001b[0m\u001b[37m\u001b[0m \u001b[1m13s\u001b[0m 56ms/step - accuracy: 0.8960 - loss: 0.3186 - val_accuracy: 0.8487 - val_loss: 0.4242\n",
      "Epoch 5/100\n",
      "\u001b[1m238/238\u001b[0m \u001b[32m━━━━━━━━━━━━━━━━━━━━\u001b[0m\u001b[37m\u001b[0m \u001b[1m14s\u001b[0m 59ms/step - accuracy: 0.9257 - loss: 0.2285 - val_accuracy: 0.8482 - val_loss: 0.4274\n",
      "Epoch 6/100\n",
      "\u001b[1m238/238\u001b[0m \u001b[32m━━━━━━━━━━━━━━━━━━━━\u001b[0m\u001b[37m\u001b[0m \u001b[1m15s\u001b[0m 63ms/step - accuracy: 0.9416 - loss: 0.1767 - val_accuracy: 0.8382 - val_loss: 0.4555\n",
      "Epoch 7/100\n",
      "\u001b[1m238/238\u001b[0m \u001b[32m━━━━━━━━━━━━━━━━━━━━\u001b[0m\u001b[37m\u001b[0m \u001b[1m16s\u001b[0m 66ms/step - accuracy: 0.9638 - loss: 0.1231 - val_accuracy: 0.8403 - val_loss: 0.4725\n",
      "Epoch 8/100\n",
      "\u001b[1m238/238\u001b[0m \u001b[32m━━━━━━━━━━━━━━━━━━━━\u001b[0m\u001b[37m\u001b[0m \u001b[1m13s\u001b[0m 56ms/step - accuracy: 0.9669 - loss: 0.1039 - val_accuracy: 0.8498 - val_loss: 0.4717\n",
      "Epoch 9/100\n",
      "\u001b[1m238/238\u001b[0m \u001b[32m━━━━━━━━━━━━━━━━━━━━\u001b[0m\u001b[37m\u001b[0m \u001b[1m16s\u001b[0m 65ms/step - accuracy: 0.9780 - loss: 0.0846 - val_accuracy: 0.8550 - val_loss: 0.4947\n",
      "Epoch 10/100\n",
      "\u001b[1m238/238\u001b[0m \u001b[32m━━━━━━━━━━━━━━━━━━━━\u001b[0m\u001b[37m\u001b[0m \u001b[1m15s\u001b[0m 64ms/step - accuracy: 0.9854 - loss: 0.0583 - val_accuracy: 0.8493 - val_loss: 0.5108\n",
      "Epoch 11/100\n",
      "\u001b[1m238/238\u001b[0m \u001b[32m━━━━━━━━━━━━━━━━━━━━\u001b[0m\u001b[37m\u001b[0m \u001b[1m14s\u001b[0m 58ms/step - accuracy: 0.9876 - loss: 0.0430 - val_accuracy: 0.8587 - val_loss: 0.5217\n",
      "Epoch 12/100\n",
      "\u001b[1m238/238\u001b[0m \u001b[32m━━━━━━━━━━━━━━━━━━━━\u001b[0m\u001b[37m\u001b[0m \u001b[1m14s\u001b[0m 60ms/step - accuracy: 0.9949 - loss: 0.0272 - val_accuracy: 0.8566 - val_loss: 0.5835\n",
      "Epoch 13/100\n",
      "\u001b[1m238/238\u001b[0m \u001b[32m━━━━━━━━━━━━━━━━━━━━\u001b[0m\u001b[37m\u001b[0m \u001b[1m15s\u001b[0m 62ms/step - accuracy: 0.9960 - loss: 0.0208 - val_accuracy: 0.8603 - val_loss: 0.5927\n",
      "Epoch 14/100\n",
      "\u001b[1m238/238\u001b[0m \u001b[32m━━━━━━━━━━━━━━━━━━━━\u001b[0m\u001b[37m\u001b[0m \u001b[1m14s\u001b[0m 60ms/step - accuracy: 0.9968 - loss: 0.0207 - val_accuracy: 0.8524 - val_loss: 0.5913\n",
      "Epoch 15/100\n",
      "\u001b[1m238/238\u001b[0m \u001b[32m━━━━━━━━━━━━━━━━━━━━\u001b[0m\u001b[37m\u001b[0m \u001b[1m15s\u001b[0m 64ms/step - accuracy: 0.9881 - loss: 0.0376 - val_accuracy: 0.8482 - val_loss: 0.6514\n",
      "Epoch 16/100\n",
      "\u001b[1m238/238\u001b[0m \u001b[32m━━━━━━━━━━━━━━━━━━━━\u001b[0m\u001b[37m\u001b[0m \u001b[1m19s\u001b[0m 78ms/step - accuracy: 0.9831 - loss: 0.0509 - val_accuracy: 0.8519 - val_loss: 0.6258\n",
      "Epoch 17/100\n",
      "\u001b[1m238/238\u001b[0m \u001b[32m━━━━━━━━━━━━━━━━━━━━\u001b[0m\u001b[37m\u001b[0m \u001b[1m17s\u001b[0m 70ms/step - accuracy: 0.9970 - loss: 0.0182 - val_accuracy: 0.8529 - val_loss: 0.6364\n",
      "Epoch 18/100\n",
      "\u001b[1m238/238\u001b[0m \u001b[32m━━━━━━━━━━━━━━━━━━━━\u001b[0m\u001b[37m\u001b[0m \u001b[1m15s\u001b[0m 65ms/step - accuracy: 0.9995 - loss: 0.0083 - val_accuracy: 0.8582 - val_loss: 0.6393\n",
      "Epoch 19/100\n",
      "\u001b[1m238/238\u001b[0m \u001b[32m━━━━━━━━━━━━━━━━━━━━\u001b[0m\u001b[37m\u001b[0m \u001b[1m21s\u001b[0m 88ms/step - accuracy: 0.9992 - loss: 0.0062 - val_accuracy: 0.8655 - val_loss: 0.6511\n",
      "Epoch 20/100\n",
      "\u001b[1m238/238\u001b[0m \u001b[32m━━━━━━━━━━━━━━━━━━━━\u001b[0m\u001b[37m\u001b[0m \u001b[1m21s\u001b[0m 86ms/step - accuracy: 1.0000 - loss: 0.0031 - val_accuracy: 0.8640 - val_loss: 0.6701\n",
      "Epoch 21/100\n",
      "\u001b[1m238/238\u001b[0m \u001b[32m━━━━━━━━━━━━━━━━━━━━\u001b[0m\u001b[37m\u001b[0m \u001b[1m18s\u001b[0m 77ms/step - accuracy: 1.0000 - loss: 0.0019 - val_accuracy: 0.8619 - val_loss: 0.6850\n",
      "Epoch 22/100\n",
      "\u001b[1m238/238\u001b[0m \u001b[32m━━━━━━━━━━━━━━━━━━━━\u001b[0m\u001b[37m\u001b[0m \u001b[1m16s\u001b[0m 65ms/step - accuracy: 1.0000 - loss: 0.0015 - val_accuracy: 0.8603 - val_loss: 0.7024\n",
      "Epoch 23/100\n",
      "\u001b[1m238/238\u001b[0m \u001b[32m━━━━━━━━━━━━━━━━━━━━\u001b[0m\u001b[37m\u001b[0m \u001b[1m16s\u001b[0m 67ms/step - accuracy: 1.0000 - loss: 0.0013 - val_accuracy: 0.8613 - val_loss: 0.7128\n",
      "Epoch 24/100\n",
      "\u001b[1m238/238\u001b[0m \u001b[32m━━━━━━━━━━━━━━━━━━━━\u001b[0m\u001b[37m\u001b[0m \u001b[1m20s\u001b[0m 84ms/step - accuracy: 1.0000 - loss: 0.0011 - val_accuracy: 0.8624 - val_loss: 0.7354\n",
      "Epoch 25/100\n",
      "\u001b[1m238/238\u001b[0m \u001b[32m━━━━━━━━━━━━━━━━━━━━\u001b[0m\u001b[37m\u001b[0m \u001b[1m16s\u001b[0m 66ms/step - accuracy: 1.0000 - loss: 7.8033e-04 - val_accuracy: 0.8629 - val_loss: 0.7488\n",
      "Epoch 26/100\n",
      "\u001b[1m238/238\u001b[0m \u001b[32m━━━━━━━━━━━━━━━━━━━━\u001b[0m\u001b[37m\u001b[0m \u001b[1m17s\u001b[0m 73ms/step - accuracy: 1.0000 - loss: 7.0627e-04 - val_accuracy: 0.8645 - val_loss: 0.7558\n",
      "Epoch 27/100\n",
      "\u001b[1m238/238\u001b[0m \u001b[32m━━━━━━━━━━━━━━━━━━━━\u001b[0m\u001b[37m\u001b[0m \u001b[1m17s\u001b[0m 69ms/step - accuracy: 1.0000 - loss: 5.7034e-04 - val_accuracy: 0.8645 - val_loss: 0.7820\n",
      "Epoch 28/100\n",
      "\u001b[1m238/238\u001b[0m \u001b[32m━━━━━━━━━━━━━━━━━━━━\u001b[0m\u001b[37m\u001b[0m \u001b[1m19s\u001b[0m 80ms/step - accuracy: 1.0000 - loss: 4.8582e-04 - val_accuracy: 0.8640 - val_loss: 0.7849\n",
      "Epoch 29/100\n",
      "\u001b[1m238/238\u001b[0m \u001b[32m━━━━━━━━━━━━━━━━━━━━\u001b[0m\u001b[37m\u001b[0m \u001b[1m18s\u001b[0m 73ms/step - accuracy: 1.0000 - loss: 4.1369e-04 - val_accuracy: 0.8582 - val_loss: 0.7968\n",
      "Epoch 30/100\n",
      "\u001b[1m238/238\u001b[0m \u001b[32m━━━━━━━━━━━━━━━━━━━━\u001b[0m\u001b[37m\u001b[0m \u001b[1m18s\u001b[0m 62ms/step - accuracy: 1.0000 - loss: 3.6186e-04 - val_accuracy: 0.8608 - val_loss: 0.8184\n",
      "Epoch 31/100\n",
      "\u001b[1m238/238\u001b[0m \u001b[32m━━━━━━━━━━━━━━━━━━━━\u001b[0m\u001b[37m\u001b[0m \u001b[1m16s\u001b[0m 67ms/step - accuracy: 1.0000 - loss: 2.8361e-04 - val_accuracy: 0.8608 - val_loss: 0.8224\n",
      "Epoch 32/100\n",
      "\u001b[1m238/238\u001b[0m \u001b[32m━━━━━━━━━━━━━━━━━━━━\u001b[0m\u001b[37m\u001b[0m \u001b[1m17s\u001b[0m 71ms/step - accuracy: 1.0000 - loss: 2.6756e-04 - val_accuracy: 0.8613 - val_loss: 0.8472\n",
      "Epoch 33/100\n",
      "\u001b[1m238/238\u001b[0m \u001b[32m━━━━━━━━━━━━━━━━━━━━\u001b[0m\u001b[37m\u001b[0m \u001b[1m19s\u001b[0m 78ms/step - accuracy: 1.0000 - loss: 2.3160e-04 - val_accuracy: 0.8608 - val_loss: 0.8524\n",
      "Epoch 34/100\n",
      "\u001b[1m238/238\u001b[0m \u001b[32m━━━━━━━━━━━━━━━━━━━━\u001b[0m\u001b[37m\u001b[0m \u001b[1m18s\u001b[0m 74ms/step - accuracy: 1.0000 - loss: 1.9558e-04 - val_accuracy: 0.8592 - val_loss: 0.8687\n",
      "Epoch 35/100\n",
      "\u001b[1m238/238\u001b[0m \u001b[32m━━━━━━━━━━━━━━━━━━━━\u001b[0m\u001b[37m\u001b[0m \u001b[1m19s\u001b[0m 78ms/step - accuracy: 1.0000 - loss: 1.4780e-04 - val_accuracy: 0.8624 - val_loss: 0.8798\n",
      "Epoch 36/100\n",
      "\u001b[1m238/238\u001b[0m \u001b[32m━━━━━━━━━━━━━━━━━━━━\u001b[0m\u001b[37m\u001b[0m \u001b[1m17s\u001b[0m 70ms/step - accuracy: 1.0000 - loss: 1.3921e-04 - val_accuracy: 0.8613 - val_loss: 0.8930\n",
      "Epoch 37/100\n",
      "\u001b[1m238/238\u001b[0m \u001b[32m━━━━━━━━━━━━━━━━━━━━\u001b[0m\u001b[37m\u001b[0m \u001b[1m15s\u001b[0m 63ms/step - accuracy: 1.0000 - loss: 1.3050e-04 - val_accuracy: 0.8603 - val_loss: 0.9047\n",
      "Epoch 38/100\n",
      "\u001b[1m238/238\u001b[0m \u001b[32m━━━━━━━━━━━━━━━━━━━━\u001b[0m\u001b[37m\u001b[0m \u001b[1m17s\u001b[0m 71ms/step - accuracy: 1.0000 - loss: 1.1612e-04 - val_accuracy: 0.8613 - val_loss: 0.9266\n",
      "Epoch 39/100\n",
      "\u001b[1m238/238\u001b[0m \u001b[32m━━━━━━━━━━━━━━━━━━━━\u001b[0m\u001b[37m\u001b[0m \u001b[1m17s\u001b[0m 69ms/step - accuracy: 1.0000 - loss: 9.5666e-05 - val_accuracy: 0.8592 - val_loss: 0.9338\n",
      "Epoch 40/100\n",
      "\u001b[1m238/238\u001b[0m \u001b[32m━━━━━━━━━━━━━━━━━━━━\u001b[0m\u001b[37m\u001b[0m \u001b[1m17s\u001b[0m 69ms/step - accuracy: 1.0000 - loss: 7.4789e-05 - val_accuracy: 0.8587 - val_loss: 0.9492\n",
      "Epoch 41/100\n",
      "\u001b[1m238/238\u001b[0m \u001b[32m━━━━━━━━━━━━━━━━━━━━\u001b[0m\u001b[37m\u001b[0m \u001b[1m19s\u001b[0m 79ms/step - accuracy: 1.0000 - loss: 7.4417e-05 - val_accuracy: 0.8592 - val_loss: 0.9589\n",
      "Epoch 42/100\n",
      "\u001b[1m238/238\u001b[0m \u001b[32m━━━━━━━━━━━━━━━━━━━━\u001b[0m\u001b[37m\u001b[0m \u001b[1m16s\u001b[0m 68ms/step - accuracy: 1.0000 - loss: 6.3172e-05 - val_accuracy: 0.8577 - val_loss: 0.9732\n",
      "Epoch 43/100\n",
      "\u001b[1m238/238\u001b[0m \u001b[32m━━━━━━━━━━━━━━━━━━━━\u001b[0m\u001b[37m\u001b[0m \u001b[1m16s\u001b[0m 66ms/step - accuracy: 1.0000 - loss: 5.0014e-05 - val_accuracy: 0.8613 - val_loss: 0.9912\n",
      "Epoch 44/100\n",
      "\u001b[1m238/238\u001b[0m \u001b[32m━━━━━━━━━━━━━━━━━━━━\u001b[0m\u001b[37m\u001b[0m \u001b[1m15s\u001b[0m 63ms/step - accuracy: 1.0000 - loss: 4.8116e-05 - val_accuracy: 0.8624 - val_loss: 1.0053\n",
      "Epoch 45/100\n",
      "\u001b[1m238/238\u001b[0m \u001b[32m━━━━━━━━━━━━━━━━━━━━\u001b[0m\u001b[37m\u001b[0m \u001b[1m15s\u001b[0m 62ms/step - accuracy: 1.0000 - loss: 4.1308e-05 - val_accuracy: 0.8592 - val_loss: 1.0188\n",
      "Epoch 46/100\n",
      "\u001b[1m238/238\u001b[0m \u001b[32m━━━━━━━━━━━━━━━━━━━━\u001b[0m\u001b[37m\u001b[0m \u001b[1m15s\u001b[0m 62ms/step - accuracy: 1.0000 - loss: 3.6939e-05 - val_accuracy: 0.8603 - val_loss: 1.0344\n",
      "Epoch 47/100\n",
      "\u001b[1m238/238\u001b[0m \u001b[32m━━━━━━━━━━━━━━━━━━━━\u001b[0m\u001b[37m\u001b[0m \u001b[1m15s\u001b[0m 65ms/step - accuracy: 1.0000 - loss: 3.0323e-05 - val_accuracy: 0.8598 - val_loss: 1.0384\n",
      "Epoch 48/100\n",
      "\u001b[1m238/238\u001b[0m \u001b[32m━━━━━━━━━━━━━━━━━━━━\u001b[0m\u001b[37m\u001b[0m \u001b[1m15s\u001b[0m 64ms/step - accuracy: 1.0000 - loss: 2.6533e-05 - val_accuracy: 0.8603 - val_loss: 1.0558\n",
      "Epoch 49/100\n",
      "\u001b[1m238/238\u001b[0m \u001b[32m━━━━━━━━━━━━━━━━━━━━\u001b[0m\u001b[37m\u001b[0m \u001b[1m14s\u001b[0m 59ms/step - accuracy: 1.0000 - loss: 2.3044e-05 - val_accuracy: 0.8598 - val_loss: 1.0642\n",
      "Epoch 50/100\n",
      "\u001b[1m238/238\u001b[0m \u001b[32m━━━━━━━━━━━━━━━━━━━━\u001b[0m\u001b[37m\u001b[0m \u001b[1m15s\u001b[0m 61ms/step - accuracy: 1.0000 - loss: 1.9458e-05 - val_accuracy: 0.8619 - val_loss: 1.0810\n",
      "Epoch 51/100\n",
      "\u001b[1m238/238\u001b[0m \u001b[32m━━━━━━━━━━━━━━━━━━━━\u001b[0m\u001b[37m\u001b[0m \u001b[1m15s\u001b[0m 63ms/step - accuracy: 1.0000 - loss: 1.6847e-05 - val_accuracy: 0.8619 - val_loss: 1.0982\n",
      "Epoch 52/100\n",
      "\u001b[1m238/238\u001b[0m \u001b[32m━━━━━━━━━━━━━━━━━━━━\u001b[0m\u001b[37m\u001b[0m \u001b[1m14s\u001b[0m 61ms/step - accuracy: 1.0000 - loss: 1.4712e-05 - val_accuracy: 0.8624 - val_loss: 1.1144\n",
      "Epoch 53/100\n",
      "\u001b[1m238/238\u001b[0m \u001b[32m━━━━━━━━━━━━━━━━━━━━\u001b[0m\u001b[37m\u001b[0m \u001b[1m15s\u001b[0m 61ms/step - accuracy: 1.0000 - loss: 1.3125e-05 - val_accuracy: 0.8613 - val_loss: 1.1211\n",
      "Epoch 54/100\n",
      "\u001b[1m238/238\u001b[0m \u001b[32m━━━━━━━━━━━━━━━━━━━━\u001b[0m\u001b[37m\u001b[0m \u001b[1m14s\u001b[0m 60ms/step - accuracy: 1.0000 - loss: 1.1147e-05 - val_accuracy: 0.8613 - val_loss: 1.1400\n",
      "Epoch 55/100\n",
      "\u001b[1m238/238\u001b[0m \u001b[32m━━━━━━━━━━━━━━━━━━━━\u001b[0m\u001b[37m\u001b[0m \u001b[1m15s\u001b[0m 62ms/step - accuracy: 1.0000 - loss: 9.3747e-06 - val_accuracy: 0.8619 - val_loss: 1.1517\n",
      "Epoch 56/100\n",
      "\u001b[1m238/238\u001b[0m \u001b[32m━━━━━━━━━━━━━━━━━━━━\u001b[0m\u001b[37m\u001b[0m \u001b[1m20s\u001b[0m 58ms/step - accuracy: 1.0000 - loss: 8.9507e-06 - val_accuracy: 0.8613 - val_loss: 1.1646\n",
      "Epoch 57/100\n",
      "\u001b[1m238/238\u001b[0m \u001b[32m━━━━━━━━━━━━━━━━━━━━\u001b[0m\u001b[37m\u001b[0m \u001b[1m16s\u001b[0m 68ms/step - accuracy: 1.0000 - loss: 7.6709e-06 - val_accuracy: 0.8608 - val_loss: 1.1739\n",
      "Epoch 58/100\n",
      "\u001b[1m238/238\u001b[0m \u001b[32m━━━━━━━━━━━━━━━━━━━━\u001b[0m\u001b[37m\u001b[0m \u001b[1m17s\u001b[0m 69ms/step - accuracy: 1.0000 - loss: 6.4785e-06 - val_accuracy: 0.8619 - val_loss: 1.1940\n",
      "Epoch 59/100\n",
      "\u001b[1m238/238\u001b[0m \u001b[32m━━━━━━━━━━━━━━━━━━━━\u001b[0m\u001b[37m\u001b[0m \u001b[1m17s\u001b[0m 70ms/step - accuracy: 1.0000 - loss: 6.1189e-06 - val_accuracy: 0.8608 - val_loss: 1.2041\n",
      "Epoch 60/100\n",
      "\u001b[1m238/238\u001b[0m \u001b[32m━━━━━━━━━━━━━━━━━━━━\u001b[0m\u001b[37m\u001b[0m \u001b[1m16s\u001b[0m 66ms/step - accuracy: 1.0000 - loss: 5.2177e-06 - val_accuracy: 0.8592 - val_loss: 1.2194\n",
      "Epoch 61/100\n",
      "\u001b[1m238/238\u001b[0m \u001b[32m━━━━━━━━━━━━━━━━━━━━\u001b[0m\u001b[37m\u001b[0m \u001b[1m20s\u001b[0m 62ms/step - accuracy: 1.0000 - loss: 4.3349e-06 - val_accuracy: 0.8624 - val_loss: 1.2393\n",
      "Epoch 62/100\n",
      "\u001b[1m238/238\u001b[0m \u001b[32m━━━━━━━━━━━━━━━━━━━━\u001b[0m\u001b[37m\u001b[0m \u001b[1m17s\u001b[0m 69ms/step - accuracy: 1.0000 - loss: 4.0591e-06 - val_accuracy: 0.8582 - val_loss: 1.2392\n",
      "Epoch 63/100\n",
      "\u001b[1m238/238\u001b[0m \u001b[32m━━━━━━━━━━━━━━━━━━━━\u001b[0m\u001b[37m\u001b[0m \u001b[1m17s\u001b[0m 69ms/step - accuracy: 1.0000 - loss: 3.1817e-06 - val_accuracy: 0.8603 - val_loss: 1.2649\n",
      "Epoch 64/100\n",
      "\u001b[1m238/238\u001b[0m \u001b[32m━━━━━━━━━━━━━━━━━━━━\u001b[0m\u001b[37m\u001b[0m \u001b[1m15s\u001b[0m 64ms/step - accuracy: 1.0000 - loss: 2.9537e-06 - val_accuracy: 0.8592 - val_loss: 1.2715\n",
      "Epoch 65/100\n",
      "\u001b[1m238/238\u001b[0m \u001b[32m━━━━━━━━━━━━━━━━━━━━\u001b[0m\u001b[37m\u001b[0m \u001b[1m16s\u001b[0m 67ms/step - accuracy: 1.0000 - loss: 2.5209e-06 - val_accuracy: 0.8598 - val_loss: 1.2766\n",
      "Epoch 66/100\n",
      "\u001b[1m238/238\u001b[0m \u001b[32m━━━━━━━━━━━━━━━━━━━━\u001b[0m\u001b[37m\u001b[0m \u001b[1m17s\u001b[0m 71ms/step - accuracy: 1.0000 - loss: 2.1580e-06 - val_accuracy: 0.8613 - val_loss: 1.2936\n",
      "Epoch 67/100\n",
      "\u001b[1m238/238\u001b[0m \u001b[32m━━━━━━━━━━━━━━━━━━━━\u001b[0m\u001b[37m\u001b[0m \u001b[1m16s\u001b[0m 65ms/step - accuracy: 1.0000 - loss: 2.0426e-06 - val_accuracy: 0.8577 - val_loss: 1.3063\n",
      "Epoch 68/100\n",
      "\u001b[1m238/238\u001b[0m \u001b[32m━━━━━━━━━━━━━━━━━━━━\u001b[0m\u001b[37m\u001b[0m \u001b[1m16s\u001b[0m 66ms/step - accuracy: 1.0000 - loss: 1.7115e-06 - val_accuracy: 0.8608 - val_loss: 1.3214\n",
      "Epoch 69/100\n",
      "\u001b[1m238/238\u001b[0m \u001b[32m━━━━━━━━━━━━━━━━━━━━\u001b[0m\u001b[37m\u001b[0m \u001b[1m16s\u001b[0m 67ms/step - accuracy: 1.0000 - loss: 1.5717e-06 - val_accuracy: 0.8592 - val_loss: 1.3429\n",
      "Epoch 70/100\n",
      "\u001b[1m238/238\u001b[0m \u001b[32m━━━━━━━━━━━━━━━━━━━━\u001b[0m\u001b[37m\u001b[0m \u001b[1m23s\u001b[0m 96ms/step - accuracy: 1.0000 - loss: 1.3186e-06 - val_accuracy: 0.8587 - val_loss: 1.3539\n",
      "Epoch 71/100\n",
      "\u001b[1m238/238\u001b[0m \u001b[32m━━━━━━━━━━━━━━━━━━━━\u001b[0m\u001b[37m\u001b[0m \u001b[1m19s\u001b[0m 80ms/step - accuracy: 1.0000 - loss: 1.2501e-06 - val_accuracy: 0.8577 - val_loss: 1.3604\n",
      "Epoch 72/100\n",
      "\u001b[1m238/238\u001b[0m \u001b[32m━━━━━━━━━━━━━━━━━━━━\u001b[0m\u001b[37m\u001b[0m \u001b[1m25s\u001b[0m 104ms/step - accuracy: 1.0000 - loss: 1.0574e-06 - val_accuracy: 0.8608 - val_loss: 1.3757\n",
      "Epoch 73/100\n",
      "\u001b[1m238/238\u001b[0m \u001b[32m━━━━━━━━━━━━━━━━━━━━\u001b[0m\u001b[37m\u001b[0m \u001b[1m18s\u001b[0m 76ms/step - accuracy: 1.0000 - loss: 8.6498e-07 - val_accuracy: 0.8582 - val_loss: 1.3840\n",
      "Epoch 74/100\n",
      "\u001b[1m238/238\u001b[0m \u001b[32m━━━━━━━━━━━━━━━━━━━━\u001b[0m\u001b[37m\u001b[0m \u001b[1m17s\u001b[0m 70ms/step - accuracy: 1.0000 - loss: 7.4507e-07 - val_accuracy: 0.8587 - val_loss: 1.3933\n",
      "Epoch 75/100\n",
      "\u001b[1m238/238\u001b[0m \u001b[32m━━━━━━━━━━━━━━━━━━━━\u001b[0m\u001b[37m\u001b[0m \u001b[1m17s\u001b[0m 71ms/step - accuracy: 1.0000 - loss: 6.3568e-07 - val_accuracy: 0.8582 - val_loss: 1.4117\n",
      "Epoch 76/100\n",
      "\u001b[1m238/238\u001b[0m \u001b[32m━━━━━━━━━━━━━━━━━━━━\u001b[0m\u001b[37m\u001b[0m \u001b[1m20s\u001b[0m 82ms/step - accuracy: 1.0000 - loss: 6.0564e-07 - val_accuracy: 0.8603 - val_loss: 1.4242\n",
      "Epoch 77/100\n",
      "\u001b[1m238/238\u001b[0m \u001b[32m━━━━━━━━━━━━━━━━━━━━\u001b[0m\u001b[37m\u001b[0m \u001b[1m20s\u001b[0m 83ms/step - accuracy: 1.0000 - loss: 5.1535e-07 - val_accuracy: 0.8571 - val_loss: 1.4463\n",
      "Epoch 78/100\n",
      "\u001b[1m238/238\u001b[0m \u001b[32m━━━━━━━━━━━━━━━━━━━━\u001b[0m\u001b[37m\u001b[0m \u001b[1m17s\u001b[0m 70ms/step - accuracy: 1.0000 - loss: 4.4565e-07 - val_accuracy: 0.8582 - val_loss: 1.4502\n",
      "Epoch 79/100\n",
      "\u001b[1m238/238\u001b[0m \u001b[32m━━━━━━━━━━━━━━━━━━━━\u001b[0m\u001b[37m\u001b[0m \u001b[1m15s\u001b[0m 63ms/step - accuracy: 1.0000 - loss: 4.0084e-07 - val_accuracy: 0.8571 - val_loss: 1.4609\n",
      "Epoch 80/100\n",
      "\u001b[1m238/238\u001b[0m \u001b[32m━━━━━━━━━━━━━━━━━━━━\u001b[0m\u001b[37m\u001b[0m \u001b[1m24s\u001b[0m 99ms/step - accuracy: 1.0000 - loss: 3.6099e-07 - val_accuracy: 0.8582 - val_loss: 1.4854\n",
      "Epoch 81/100\n",
      "\u001b[1m238/238\u001b[0m \u001b[32m━━━━━━━━━━━━━━━━━━━━\u001b[0m\u001b[37m\u001b[0m \u001b[1m25s\u001b[0m 105ms/step - accuracy: 1.0000 - loss: 3.1761e-07 - val_accuracy: 0.8582 - val_loss: 1.4906\n",
      "Epoch 82/100\n",
      "\u001b[1m238/238\u001b[0m \u001b[32m━━━━━━━━━━━━━━━━━━━━\u001b[0m\u001b[37m\u001b[0m \u001b[1m29s\u001b[0m 123ms/step - accuracy: 1.0000 - loss: 2.7795e-07 - val_accuracy: 0.8571 - val_loss: 1.5067\n",
      "Epoch 83/100\n",
      "\u001b[1m238/238\u001b[0m \u001b[32m━━━━━━━━━━━━━━━━━━━━\u001b[0m\u001b[37m\u001b[0m \u001b[1m23s\u001b[0m 94ms/step - accuracy: 1.0000 - loss: 2.4159e-07 - val_accuracy: 0.8582 - val_loss: 1.5088\n",
      "Epoch 84/100\n",
      "\u001b[1m238/238\u001b[0m \u001b[32m━━━━━━━━━━━━━━━━━━━━\u001b[0m\u001b[37m\u001b[0m \u001b[1m26s\u001b[0m 108ms/step - accuracy: 1.0000 - loss: 2.0594e-07 - val_accuracy: 0.8577 - val_loss: 1.5306\n",
      "Epoch 85/100\n",
      "\u001b[1m238/238\u001b[0m \u001b[32m━━━━━━━━━━━━━━━━━━━━\u001b[0m\u001b[37m\u001b[0m \u001b[1m23s\u001b[0m 98ms/step - accuracy: 1.0000 - loss: 1.9603e-07 - val_accuracy: 0.8587 - val_loss: 1.5436\n",
      "Epoch 86/100\n",
      "\u001b[1m238/238\u001b[0m \u001b[32m━━━━━━━━━━━━━━━━━━━━\u001b[0m\u001b[37m\u001b[0m \u001b[1m25s\u001b[0m 104ms/step - accuracy: 1.0000 - loss: 1.6747e-07 - val_accuracy: 0.8582 - val_loss: 1.5532\n",
      "Epoch 87/100\n",
      "\u001b[1m238/238\u001b[0m \u001b[32m━━━━━━━━━━━━━━━━━━━━\u001b[0m\u001b[37m\u001b[0m \u001b[1m19s\u001b[0m 80ms/step - accuracy: 1.0000 - loss: 1.4991e-07 - val_accuracy: 0.8587 - val_loss: 1.5668\n",
      "Epoch 88/100\n",
      "\u001b[1m238/238\u001b[0m \u001b[32m━━━━━━━━━━━━━━━━━━━━\u001b[0m\u001b[37m\u001b[0m \u001b[1m20s\u001b[0m 84ms/step - accuracy: 1.0000 - loss: 1.2983e-07 - val_accuracy: 0.8571 - val_loss: 1.5774\n",
      "Epoch 89/100\n",
      "\u001b[1m238/238\u001b[0m \u001b[32m━━━━━━━━━━━━━━━━━━━━\u001b[0m\u001b[37m\u001b[0m \u001b[1m18s\u001b[0m 76ms/step - accuracy: 1.0000 - loss: 1.1158e-07 - val_accuracy: 0.8577 - val_loss: 1.5944\n",
      "Epoch 90/100\n",
      "\u001b[1m238/238\u001b[0m \u001b[32m━━━━━━━━━━━━━━━━━━━━\u001b[0m\u001b[37m\u001b[0m \u001b[1m18s\u001b[0m 74ms/step - accuracy: 1.0000 - loss: 9.9963e-08 - val_accuracy: 0.8566 - val_loss: 1.6102\n",
      "Epoch 91/100\n",
      "\u001b[1m238/238\u001b[0m \u001b[32m━━━━━━━━━━━━━━━━━━━━\u001b[0m\u001b[37m\u001b[0m \u001b[1m18s\u001b[0m 76ms/step - accuracy: 1.0000 - loss: 8.6507e-08 - val_accuracy: 0.8577 - val_loss: 1.6122\n",
      "Epoch 92/100\n",
      "\u001b[1m238/238\u001b[0m \u001b[32m━━━━━━━━━━━━━━━━━━━━\u001b[0m\u001b[37m\u001b[0m \u001b[1m17s\u001b[0m 69ms/step - accuracy: 1.0000 - loss: 7.8025e-08 - val_accuracy: 0.8582 - val_loss: 1.6311\n",
      "Epoch 93/100\n",
      "\u001b[1m238/238\u001b[0m \u001b[32m━━━━━━━━━━━━━━━━━━━━\u001b[0m\u001b[37m\u001b[0m \u001b[1m17s\u001b[0m 71ms/step - accuracy: 1.0000 - loss: 6.7095e-08 - val_accuracy: 0.8582 - val_loss: 1.6433\n",
      "Epoch 94/100\n",
      "\u001b[1m238/238\u001b[0m \u001b[32m━━━━━━━━━━━━━━━━━━━━\u001b[0m\u001b[37m\u001b[0m \u001b[1m16s\u001b[0m 67ms/step - accuracy: 1.0000 - loss: 6.1273e-08 - val_accuracy: 0.8587 - val_loss: 1.6555\n",
      "Epoch 95/100\n",
      "\u001b[1m238/238\u001b[0m \u001b[32m━━━━━━━━━━━━━━━━━━━━\u001b[0m\u001b[37m\u001b[0m \u001b[1m16s\u001b[0m 68ms/step - accuracy: 1.0000 - loss: 5.1758e-08 - val_accuracy: 0.8571 - val_loss: 1.6660\n",
      "Epoch 96/100\n",
      "\u001b[1m238/238\u001b[0m \u001b[32m━━━━━━━━━━━━━━━━━━━━\u001b[0m\u001b[37m\u001b[0m \u001b[1m17s\u001b[0m 70ms/step - accuracy: 1.0000 - loss: 5.0194e-08 - val_accuracy: 0.8587 - val_loss: 1.6771\n",
      "Epoch 97/100\n",
      "\u001b[1m238/238\u001b[0m \u001b[32m━━━━━━━━━━━━━━━━━━━━\u001b[0m\u001b[37m\u001b[0m \u001b[1m17s\u001b[0m 69ms/step - accuracy: 1.0000 - loss: 3.9919e-08 - val_accuracy: 0.8566 - val_loss: 1.6892\n",
      "Epoch 98/100\n",
      "\u001b[1m238/238\u001b[0m \u001b[32m━━━━━━━━━━━━━━━━━━━━\u001b[0m\u001b[37m\u001b[0m \u001b[1m16s\u001b[0m 67ms/step - accuracy: 1.0000 - loss: 3.5521e-08 - val_accuracy: 0.8571 - val_loss: 1.7031\n",
      "Epoch 99/100\n",
      "\u001b[1m238/238\u001b[0m \u001b[32m━━━━━━━━━━━━━━━━━━━━\u001b[0m\u001b[37m\u001b[0m \u001b[1m16s\u001b[0m 67ms/step - accuracy: 1.0000 - loss: 3.3623e-08 - val_accuracy: 0.8571 - val_loss: 1.7093\n",
      "Epoch 100/100\n",
      "\u001b[1m238/238\u001b[0m \u001b[32m━━━━━━━━━━━━━━━━━━━━\u001b[0m\u001b[37m\u001b[0m \u001b[1m17s\u001b[0m 71ms/step - accuracy: 1.0000 - loss: 3.0538e-08 - val_accuracy: 0.8577 - val_loss: 1.7188\n"
     ]
    }
   ],
   "source": [
    "#Compile and train model\n",
    "model.compile(optimizer='adam',\n",
    "              loss=tf.keras.losses.SparseCategoricalCrossentropy(from_logits=True),\n",
    "              metrics=['accuracy'])\n",
    "\n",
    "history = model.fit(X_train, y_train, epochs=100, \n",
    "                    validation_data=(X_test, y_test))"
   ]
  },
  {
   "cell_type": "code",
   "execution_count": 12,
   "metadata": {},
   "outputs": [
    {
     "name": "stdout",
     "output_type": "stream",
     "text": [
      "60/60 - 1s - 9ms/step - accuracy: 0.8577 - loss: 1.7188\n",
      "\u001b[1m60/60\u001b[0m \u001b[32m━━━━━━━━━━━━━━━━━━━━\u001b[0m\u001b[37m\u001b[0m \u001b[1m1s\u001b[0m 12ms/step\n",
      "              precision    recall  f1-score   support\n",
      "\n",
      "           0       0.87      0.84      0.85       476\n",
      "           1       0.85      0.85      0.85       476\n",
      "           2       0.87      0.89      0.88       476\n",
      "           3       0.84      0.85      0.85       476\n",
      "\n",
      "    accuracy                           0.86      1904\n",
      "   macro avg       0.86      0.86      0.86      1904\n",
      "weighted avg       0.86      0.86      0.86      1904\n",
      "\n",
      "Accuracy: 0.8576680672268907\n"
     ]
    },
    {
     "data": {
      "image/png": "[encoded data removed]",
      "text/plain": [
       "<Figure size 432x288 with 1 Axes>"
      ]
     },
     "metadata": {
      "needs_background": "light"
     },
     "output_type": "display_data"
    }
   ],
   "source": [
    "# Evaluate the model\n",
    "plt.plot(history.history['accuracy'], label='accuracy')\n",
    "plt.plot(history.history['val_accuracy'], label = 'val_accuracy')\n",
    "plt.xlabel('Epoch')\n",
    "plt.ylabel('Accuracy')\n",
    "plt.ylim([0.5, 1])\n",
    "plt.legend(loc='lower right')\n",
    "\n",
    "test_loss, test_acc = model.evaluate(X_test,  y_test, verbose=2)\n",
    "\n",
    "\n",
    "from sklearn.metrics import classification_report, accuracy_score\n",
    "\n",
    "# Get model predictions (logits)\n",
    "y_pred_logits = model.predict(X_test)  # This will return raw logits\n",
    "\n",
    "# Convert logits to class labels (since from_logits=True)\n",
    "y_pred = np.argmax(y_pred_logits, axis=1)\n",
    "\n",
    "# Print classification report\n",
    "print(classification_report(y_test, y_pred))\n",
    "\n",
    "# Compute accuracy separately\n",
    "accuracy = accuracy_score(y_test, y_pred)\n",
    "print(\"Accuracy:\", accuracy)"
   ]
  }
 ],
 "metadata": {
  "kernelspec": {
   "display_name": "base",
   "language": "python",
   "name": "python3"
  },
  "language_info": {
   "codemirror_mode": {
    "name": "ipython",
    "version": 3
   },
   "file_extension": ".py",
   "mimetype": "text/x-python",
   "name": "python",
   "nbconvert_exporter": "python",
   "pygments_lexer": "ipython3",
   "version": "3.9.12"
  },
  "mimir": {
   "data": {},
   "last_submission_id": "",
   "project_id": "d161be9a-3b35-4d3d-9d1d-a799bc34232f"
  },
  "varInspector": {
   "cols": {
    "lenName": 16,
    "lenType": 16,
    "lenVar": 40
   },
   "kernels_config": {
    "python": {
     "delete_cmd_postfix": "",
     "delete_cmd_prefix": "del ",
     "library": "var_list.py",
     "varRefreshCmd": "print(var_dic_list())"
    },
    "r": {
     "delete_cmd_postfix": ") ",
     "delete_cmd_prefix": "rm(",
     "library": "var_list.r",
     "varRefreshCmd": "cat(var_dic_list()) "
    }
   },
   "types_to_exclude": [
    "module",
    "function",
    "builtin_function_or_method",
    "instance",
    "_Feature"
   ],
   "window_display": false
  }
 },
 "nbformat": 4,
 "nbformat_minor": 2
}
